{
 "cells": [
  {
   "cell_type": "code",
   "execution_count": 1,
   "id": "30e55ffc-b3f0-44cd-95e1-7ffce96637be",
   "metadata": {},
   "outputs": [],
   "source": [
    "import numpy as np\n",
    "import pandas as pd\n",
    "import matplotlib.pyplot as plt\n",
    "import seaborn as sns\n",
    "import credentials\n",
    "import requests\n",
    "\n",
    "from tools import *\n",
    "sns.set()"
   ]
  },
  {
   "cell_type": "code",
   "execution_count": 2,
   "id": "d706f71c-51cd-461f-bf79-b101ca3b38a2",
   "metadata": {},
   "outputs": [],
   "source": [
    "# url = \"https://api.eia.gov/v2/electricity/rto/fuel-type-data/data/\"\n",
    "\n",
    "# parameters = {\n",
    "#     'api_key':credentials.api_key\n",
    "# }\n",
    "\n",
    "# header2 = {'X-Params': '{\"frequency\":\"hourly\",\"data\":[\"value\"],\"facets\":{},\"start\":\"2022-01-01T00\",\"end\":\"2022-01-28T00\",\"sort\":[{\"column\":\"period\",\"direction\":\"desc\"}],\"offset\":0,\"length\":5}'}\n",
    "\n",
    "# response = requests.get(url, params=parameters,headers=header2)\n",
    "# print(header2)\n",
    "# print(\"Successfully retrieved %d data\"%len(response.json()['response']['data']))\n",
    "# response.status_code"
   ]
  },
  {
   "cell_type": "markdown",
   "id": "7ab91663-4153-46b5-814b-4cce9aada89c",
   "metadata": {},
   "source": [
    "# Creating function to get the EIA data\n"
   ]
  },
  {
   "cell_type": "code",
   "execution_count": 3,
   "id": "c090065e-d14f-4a15-be14-23c28b29d69a",
   "metadata": {},
   "outputs": [],
   "source": [
    "#data = EIA_API_request(facets='{\"respondent\": [\"CISO\"],\"fueltype\": [\"SUN\",\"WND\"]}', start=\"2018-07-01T00\",end=\"2023-07-09T00\")\n",
    "\n",
    "#data.keys()"
   ]
  },
  {
   "cell_type": "code",
   "execution_count": 4,
   "id": "627c7c80-2259-4633-a634-bdda38031f5f",
   "metadata": {},
   "outputs": [
    {
     "name": "stdout",
     "output_type": "stream",
     "text": [
      "Successfully retrieved 5000 data\n",
      "{'X-Params': '{\"frequency\":\"hourly\",\"data\":[\"value\"],\"facets\":{\"respondent\": [\"CISO\"],\"fueltype\": [\"SUN\"]},\"start\":\"2018-07-01T00\",\"end\":\"2023-07-09T00\",\"sort\":[{\"column\":\"period\",\"direction\":\"desc\"}],\"offset\":5000,\"length\":50000}'}\n",
      "{'X-Params': '{\"frequency\":\"hourly\",\"data\":[\"value\"],\"facets\":{\"respondent\": [\"CISO\"],\"fueltype\": [\"SUN\"]},\"start\":\"2018-07-01T00\",\"end\":\"2023-07-09T00\",\"sort\":[{\"column\":\"period\",\"direction\":\"desc\"}],\"offset\":10000,\"length\":50000}'}\n",
      "{'X-Params': '{\"frequency\":\"hourly\",\"data\":[\"value\"],\"facets\":{\"respondent\": [\"CISO\"],\"fueltype\": [\"SUN\"]},\"start\":\"2018-07-01T00\",\"end\":\"2023-07-09T00\",\"sort\":[{\"column\":\"period\",\"direction\":\"desc\"}],\"offset\":15000,\"length\":50000}'}\n",
      "{'X-Params': '{\"frequency\":\"hourly\",\"data\":[\"value\"],\"facets\":{\"respondent\": [\"CISO\"],\"fueltype\": [\"SUN\"]},\"start\":\"2018-07-01T00\",\"end\":\"2023-07-09T00\",\"sort\":[{\"column\":\"period\",\"direction\":\"desc\"}],\"offset\":20000,\"length\":50000}'}\n",
      "{'X-Params': '{\"frequency\":\"hourly\",\"data\":[\"value\"],\"facets\":{\"respondent\": [\"CISO\"],\"fueltype\": [\"SUN\"]},\"start\":\"2018-07-01T00\",\"end\":\"2023-07-09T00\",\"sort\":[{\"column\":\"period\",\"direction\":\"desc\"}],\"offset\":25000,\"length\":50000}'}\n",
      "{'X-Params': '{\"frequency\":\"hourly\",\"data\":[\"value\"],\"facets\":{\"respondent\": [\"CISO\"],\"fueltype\": [\"SUN\"]},\"start\":\"2018-07-01T00\",\"end\":\"2023-07-09T00\",\"sort\":[{\"column\":\"period\",\"direction\":\"desc\"}],\"offset\":30000,\"length\":50000}'}\n",
      "{'X-Params': '{\"frequency\":\"hourly\",\"data\":[\"value\"],\"facets\":{\"respondent\": [\"CISO\"],\"fueltype\": [\"SUN\"]},\"start\":\"2018-07-01T00\",\"end\":\"2023-07-09T00\",\"sort\":[{\"column\":\"period\",\"direction\":\"desc\"}],\"offset\":35000,\"length\":50000}'}\n",
      "{'X-Params': '{\"frequency\":\"hourly\",\"data\":[\"value\"],\"facets\":{\"respondent\": [\"CISO\"],\"fueltype\": [\"SUN\"]},\"start\":\"2018-07-01T00\",\"end\":\"2023-07-09T00\",\"sort\":[{\"column\":\"period\",\"direction\":\"desc\"}],\"offset\":40000,\"length\":50000}'}\n",
      "Out of 43995, 43995 entries received\n"
     ]
    },
    {
     "data": {
      "text/html": [
       "<div>\n",
       "<style scoped>\n",
       "    .dataframe tbody tr th:only-of-type {\n",
       "        vertical-align: middle;\n",
       "    }\n",
       "\n",
       "    .dataframe tbody tr th {\n",
       "        vertical-align: top;\n",
       "    }\n",
       "\n",
       "    .dataframe thead th {\n",
       "        text-align: right;\n",
       "    }\n",
       "</style>\n",
       "<table border=\"1\" class=\"dataframe\">\n",
       "  <thead>\n",
       "    <tr style=\"text-align: right;\">\n",
       "      <th></th>\n",
       "      <th>period</th>\n",
       "      <th>respondent</th>\n",
       "      <th>respondent-name</th>\n",
       "      <th>fueltype</th>\n",
       "      <th>type-name</th>\n",
       "      <th>value</th>\n",
       "      <th>value-units</th>\n",
       "    </tr>\n",
       "  </thead>\n",
       "  <tbody>\n",
       "    <tr>\n",
       "      <th>0</th>\n",
       "      <td>2023-07-09T00</td>\n",
       "      <td>CISO</td>\n",
       "      <td>California Independent System Operator</td>\n",
       "      <td>SUN</td>\n",
       "      <td>Solar</td>\n",
       "      <td>12972.0</td>\n",
       "      <td>megawatthours</td>\n",
       "    </tr>\n",
       "    <tr>\n",
       "      <th>1</th>\n",
       "      <td>2023-07-08T23</td>\n",
       "      <td>CISO</td>\n",
       "      <td>California Independent System Operator</td>\n",
       "      <td>SUN</td>\n",
       "      <td>Solar</td>\n",
       "      <td>13656.0</td>\n",
       "      <td>megawatthours</td>\n",
       "    </tr>\n",
       "    <tr>\n",
       "      <th>2</th>\n",
       "      <td>2023-07-08T22</td>\n",
       "      <td>CISO</td>\n",
       "      <td>California Independent System Operator</td>\n",
       "      <td>SUN</td>\n",
       "      <td>Solar</td>\n",
       "      <td>14179.0</td>\n",
       "      <td>megawatthours</td>\n",
       "    </tr>\n",
       "    <tr>\n",
       "      <th>3</th>\n",
       "      <td>2023-07-08T21</td>\n",
       "      <td>CISO</td>\n",
       "      <td>California Independent System Operator</td>\n",
       "      <td>SUN</td>\n",
       "      <td>Solar</td>\n",
       "      <td>14356.0</td>\n",
       "      <td>megawatthours</td>\n",
       "    </tr>\n",
       "    <tr>\n",
       "      <th>4</th>\n",
       "      <td>2023-07-08T20</td>\n",
       "      <td>CISO</td>\n",
       "      <td>California Independent System Operator</td>\n",
       "      <td>SUN</td>\n",
       "      <td>Solar</td>\n",
       "      <td>14319.0</td>\n",
       "      <td>megawatthours</td>\n",
       "    </tr>\n",
       "  </tbody>\n",
       "</table>\n",
       "</div>"
      ],
      "text/plain": [
       "          period respondent                         respondent-name fueltype  \\\n",
       "0  2023-07-09T00       CISO  California Independent System Operator      SUN   \n",
       "1  2023-07-08T23       CISO  California Independent System Operator      SUN   \n",
       "2  2023-07-08T22       CISO  California Independent System Operator      SUN   \n",
       "3  2023-07-08T21       CISO  California Independent System Operator      SUN   \n",
       "4  2023-07-08T20       CISO  California Independent System Operator      SUN   \n",
       "\n",
       "  type-name    value    value-units  \n",
       "0     Solar  12972.0  megawatthours  \n",
       "1     Solar  13656.0  megawatthours  \n",
       "2     Solar  14179.0  megawatthours  \n",
       "3     Solar  14356.0  megawatthours  \n",
       "4     Solar  14319.0  megawatthours  "
      ]
     },
     "execution_count": 4,
     "metadata": {},
     "output_type": "execute_result"
    }
   ],
   "source": [
    "data = EIA_API_request(\n",
    "        facets='{\"respondent\": [\"CISO\"],\"fueltype\": [\"SUN\"]}'\n",
    "        , start=\"2018-07-01T00\",end=\"2023-07-09T00\"\n",
    "        ,offset=0,length=50000\n",
    "    )\n",
    "\n",
    "data.head()\n",
    "\n",
    "# offset = 5000\n",
    "# while left >0:\n",
    "#     json = EIA_API_request(\n",
    "#         facets='{\"respondent\": [\"CISO\"],\"fueltype\": [\"SUN\",\"WND\"]}'\n",
    "#         , start=\"2018-07-01T00\",end=\"2023-07-09T00\"\n",
    "#         ,offset=offset,length=5000\n",
    "#     )\n",
    "#     data = pd.concat([data,pd.json_normalize(json['response']['data'])], ignore_index=True)\n",
    "#     offset+=5000\n",
    "#     left = entries - offset\n",
    "#     print(offset)\n",
    "\n",
    "# data.head()"
   ]
  },
  {
   "cell_type": "code",
   "execution_count": 5,
   "id": "b6d6d462-2cbf-4e98-ae64-59d00c417652",
   "metadata": {},
   "outputs": [
    {
     "data": {
      "text/plain": [
       "RangeIndex(start=0, stop=43995, step=1)"
      ]
     },
     "execution_count": 5,
     "metadata": {},
     "output_type": "execute_result"
    }
   ],
   "source": [
    "#data.reset_index(drop=True)\n",
    "data.index"
   ]
  },
  {
   "cell_type": "code",
   "execution_count": 6,
   "id": "1d2eb683-4b4b-4e59-b8c8-bb2d39d7f42a",
   "metadata": {},
   "outputs": [
    {
     "data": {
      "text/html": [
       "<div>\n",
       "<style scoped>\n",
       "    .dataframe tbody tr th:only-of-type {\n",
       "        vertical-align: middle;\n",
       "    }\n",
       "\n",
       "    .dataframe tbody tr th {\n",
       "        vertical-align: top;\n",
       "    }\n",
       "\n",
       "    .dataframe thead th {\n",
       "        text-align: right;\n",
       "    }\n",
       "</style>\n",
       "<table border=\"1\" class=\"dataframe\">\n",
       "  <thead>\n",
       "    <tr style=\"text-align: right;\">\n",
       "      <th></th>\n",
       "      <th>period</th>\n",
       "      <th>respondent</th>\n",
       "      <th>respondent-name</th>\n",
       "      <th>fueltype</th>\n",
       "      <th>type-name</th>\n",
       "      <th>value</th>\n",
       "      <th>value-units</th>\n",
       "    </tr>\n",
       "  </thead>\n",
       "  <tbody>\n",
       "    <tr>\n",
       "      <th>43990</th>\n",
       "      <td>2018-07-01T12</td>\n",
       "      <td>CISO</td>\n",
       "      <td>California Independent System Operator</td>\n",
       "      <td>SUN</td>\n",
       "      <td>Solar</td>\n",
       "      <td>-38.0</td>\n",
       "      <td>megawatthours</td>\n",
       "    </tr>\n",
       "    <tr>\n",
       "      <th>43991</th>\n",
       "      <td>2018-07-01T11</td>\n",
       "      <td>CISO</td>\n",
       "      <td>California Independent System Operator</td>\n",
       "      <td>SUN</td>\n",
       "      <td>Solar</td>\n",
       "      <td>-38.0</td>\n",
       "      <td>megawatthours</td>\n",
       "    </tr>\n",
       "    <tr>\n",
       "      <th>43992</th>\n",
       "      <td>2018-07-01T10</td>\n",
       "      <td>CISO</td>\n",
       "      <td>California Independent System Operator</td>\n",
       "      <td>SUN</td>\n",
       "      <td>Solar</td>\n",
       "      <td>-36.0</td>\n",
       "      <td>megawatthours</td>\n",
       "    </tr>\n",
       "    <tr>\n",
       "      <th>43993</th>\n",
       "      <td>2018-07-01T09</td>\n",
       "      <td>CISO</td>\n",
       "      <td>California Independent System Operator</td>\n",
       "      <td>SUN</td>\n",
       "      <td>Solar</td>\n",
       "      <td>-35.0</td>\n",
       "      <td>megawatthours</td>\n",
       "    </tr>\n",
       "    <tr>\n",
       "      <th>43994</th>\n",
       "      <td>2018-07-01T08</td>\n",
       "      <td>CISO</td>\n",
       "      <td>California Independent System Operator</td>\n",
       "      <td>SUN</td>\n",
       "      <td>Solar</td>\n",
       "      <td>-36.0</td>\n",
       "      <td>megawatthours</td>\n",
       "    </tr>\n",
       "  </tbody>\n",
       "</table>\n",
       "</div>"
      ],
      "text/plain": [
       "              period respondent                         respondent-name  \\\n",
       "43990  2018-07-01T12       CISO  California Independent System Operator   \n",
       "43991  2018-07-01T11       CISO  California Independent System Operator   \n",
       "43992  2018-07-01T10       CISO  California Independent System Operator   \n",
       "43993  2018-07-01T09       CISO  California Independent System Operator   \n",
       "43994  2018-07-01T08       CISO  California Independent System Operator   \n",
       "\n",
       "      fueltype type-name  value    value-units  \n",
       "43990      SUN     Solar  -38.0  megawatthours  \n",
       "43991      SUN     Solar  -38.0  megawatthours  \n",
       "43992      SUN     Solar  -36.0  megawatthours  \n",
       "43993      SUN     Solar  -35.0  megawatthours  \n",
       "43994      SUN     Solar  -36.0  megawatthours  "
      ]
     },
     "execution_count": 6,
     "metadata": {},
     "output_type": "execute_result"
    }
   ],
   "source": [
    "data.tail()"
   ]
  },
  {
   "cell_type": "code",
   "execution_count": 7,
   "id": "ed090dc9-284e-4592-b107-c3b7ca5ef997",
   "metadata": {},
   "outputs": [
    {
     "data": {
      "text/plain": [
       "<Axes: ylabel='value'>"
      ]
     },
     "execution_count": 7,
     "metadata": {},
     "output_type": "execute_result"
    },
    {
     "data": {
      "image/png": "[encoded data removed]",
      "text/plain": [
       "<Figure size 640x480 with 1 Axes>"
      ]
     },
     "metadata": {},
     "output_type": "display_data"
    }
   ],
   "source": [
    "sns.lineplot(data=data.iloc[:100],x=data.index[:100],y='value')"
   ]
  },
  {
   "cell_type": "code",
   "execution_count": 8,
   "id": "b1b50936-d23e-4474-8226-628ffb2afc35",
   "metadata": {},
   "outputs": [],
   "source": [
    "# data_wind = data[data['fueltype']=='WND']\n",
    "# data_solar = data[data['fueltype']=='SUN']"
   ]
  },
  {
   "cell_type": "code",
   "execution_count": 12,
   "id": "e35eb0e9-a0a9-403a-9f25-a5becb198daa",
   "metadata": {},
   "outputs": [
    {
     "data": {
      "text/plain": [
       "<Axes: ylabel='value'>"
      ]
     },
     "execution_count": 12,
     "metadata": {},
     "output_type": "execute_result"
    },
    {
     "data": {
      "image/png": "[encoded data removed]",
      "text/plain": [
       "<Figure size 640x480 with 1 Axes>"
      ]
     },
     "metadata": {},
     "output_type": "display_data"
    }
   ],
   "source": [
    "sns.lineplot(data=data.iloc[:100],x=data.index[:100],y='value',c='magenta')\n",
    "#sns.lineplot(data=data_wind.iloc[:100],x=data_wind.index[:100],y='value',c='magenta')"
   ]
  },
  {
   "cell_type": "markdown",
   "id": "a8c53f6b-7bb6-4037-b74c-d75060f54c13",
   "metadata": {},
   "source": [
    "# Getting Demand Data of CISO"
   ]
  },
  {
   "cell_type": "code",
   "execution_count": 14,
   "id": "04644938-904a-44d0-9f90-5960f395b738",
   "metadata": {},
   "outputs": [
    {
     "name": "stdout",
     "output_type": "stream",
     "text": [
      "Successfully retrieved 5000 data\n",
      "{'X-Params': '{\"frequency\":\"hourly\",\"data\":[\"value\"],\"facets\":{\"respondent\": [\"CISO\"],\"type\": [\"D\"]},\"start\":\"2015-07-01T00\",\"end\":\"2023-07-12T00\",\"sort\":[{\"column\":\"period\",\"direction\":\"asc\"}],\"offset\":5000,\"length\":500000}'}\n",
      "{'X-Params': '{\"frequency\":\"hourly\",\"data\":[\"value\"],\"facets\":{\"respondent\": [\"CISO\"],\"type\": [\"D\"]},\"start\":\"2015-07-01T00\",\"end\":\"2023-07-12T00\",\"sort\":[{\"column\":\"period\",\"direction\":\"asc\"}],\"offset\":10000,\"length\":500000}'}\n",
      "{'X-Params': '{\"frequency\":\"hourly\",\"data\":[\"value\"],\"facets\":{\"respondent\": [\"CISO\"],\"type\": [\"D\"]},\"start\":\"2015-07-01T00\",\"end\":\"2023-07-12T00\",\"sort\":[{\"column\":\"period\",\"direction\":\"asc\"}],\"offset\":15000,\"length\":500000}'}\n",
      "{'X-Params': '{\"frequency\":\"hourly\",\"data\":[\"value\"],\"facets\":{\"respondent\": [\"CISO\"],\"type\": [\"D\"]},\"start\":\"2015-07-01T00\",\"end\":\"2023-07-12T00\",\"sort\":[{\"column\":\"period\",\"direction\":\"asc\"}],\"offset\":20000,\"length\":500000}'}\n",
      "{'X-Params': '{\"frequency\":\"hourly\",\"data\":[\"value\"],\"facets\":{\"respondent\": [\"CISO\"],\"type\": [\"D\"]},\"start\":\"2015-07-01T00\",\"end\":\"2023-07-12T00\",\"sort\":[{\"column\":\"period\",\"direction\":\"asc\"}],\"offset\":25000,\"length\":500000}'}\n",
      "{'X-Params': '{\"frequency\":\"hourly\",\"data\":[\"value\"],\"facets\":{\"respondent\": [\"CISO\"],\"type\": [\"D\"]},\"start\":\"2015-07-01T00\",\"end\":\"2023-07-12T00\",\"sort\":[{\"column\":\"period\",\"direction\":\"asc\"}],\"offset\":30000,\"length\":500000}'}\n",
      "{'X-Params': '{\"frequency\":\"hourly\",\"data\":[\"value\"],\"facets\":{\"respondent\": [\"CISO\"],\"type\": [\"D\"]},\"start\":\"2015-07-01T00\",\"end\":\"2023-07-12T00\",\"sort\":[{\"column\":\"period\",\"direction\":\"asc\"}],\"offset\":35000,\"length\":500000}'}\n",
      "{'X-Params': '{\"frequency\":\"hourly\",\"data\":[\"value\"],\"facets\":{\"respondent\": [\"CISO\"],\"type\": [\"D\"]},\"start\":\"2015-07-01T00\",\"end\":\"2023-07-12T00\",\"sort\":[{\"column\":\"period\",\"direction\":\"asc\"}],\"offset\":40000,\"length\":500000}'}\n",
      "{'X-Params': '{\"frequency\":\"hourly\",\"data\":[\"value\"],\"facets\":{\"respondent\": [\"CISO\"],\"type\": [\"D\"]},\"start\":\"2015-07-01T00\",\"end\":\"2023-07-12T00\",\"sort\":[{\"column\":\"period\",\"direction\":\"asc\"}],\"offset\":45000,\"length\":500000}'}\n",
      "{'X-Params': '{\"frequency\":\"hourly\",\"data\":[\"value\"],\"facets\":{\"respondent\": [\"CISO\"],\"type\": [\"D\"]},\"start\":\"2015-07-01T00\",\"end\":\"2023-07-12T00\",\"sort\":[{\"column\":\"period\",\"direction\":\"asc\"}],\"offset\":50000,\"length\":500000}'}\n",
      "{'X-Params': '{\"frequency\":\"hourly\",\"data\":[\"value\"],\"facets\":{\"respondent\": [\"CISO\"],\"type\": [\"D\"]},\"start\":\"2015-07-01T00\",\"end\":\"2023-07-12T00\",\"sort\":[{\"column\":\"period\",\"direction\":\"asc\"}],\"offset\":55000,\"length\":500000}'}\n",
      "{'X-Params': '{\"frequency\":\"hourly\",\"data\":[\"value\"],\"facets\":{\"respondent\": [\"CISO\"],\"type\": [\"D\"]},\"start\":\"2015-07-01T00\",\"end\":\"2023-07-12T00\",\"sort\":[{\"column\":\"period\",\"direction\":\"asc\"}],\"offset\":60000,\"length\":500000}'}\n",
      "{'X-Params': '{\"frequency\":\"hourly\",\"data\":[\"value\"],\"facets\":{\"respondent\": [\"CISO\"],\"type\": [\"D\"]},\"start\":\"2015-07-01T00\",\"end\":\"2023-07-12T00\",\"sort\":[{\"column\":\"period\",\"direction\":\"asc\"}],\"offset\":65000,\"length\":500000}'}\n",
      "{'X-Params': '{\"frequency\":\"hourly\",\"data\":[\"value\"],\"facets\":{\"respondent\": [\"CISO\"],\"type\": [\"D\"]},\"start\":\"2015-07-01T00\",\"end\":\"2023-07-12T00\",\"sort\":[{\"column\":\"period\",\"direction\":\"asc\"}],\"offset\":70000,\"length\":500000}'}\n",
      "Out of 70358, 70358 entries received\n"
     ]
    },
    {
     "data": {
      "text/html": [
       "<div>\n",
       "<style scoped>\n",
       "    .dataframe tbody tr th:only-of-type {\n",
       "        vertical-align: middle;\n",
       "    }\n",
       "\n",
       "    .dataframe tbody tr th {\n",
       "        vertical-align: top;\n",
       "    }\n",
       "\n",
       "    .dataframe thead th {\n",
       "        text-align: right;\n",
       "    }\n",
       "</style>\n",
       "<table border=\"1\" class=\"dataframe\">\n",
       "  <thead>\n",
       "    <tr style=\"text-align: right;\">\n",
       "      <th></th>\n",
       "      <th>period</th>\n",
       "      <th>respondent</th>\n",
       "      <th>respondent-name</th>\n",
       "      <th>type</th>\n",
       "      <th>type-name</th>\n",
       "      <th>value</th>\n",
       "      <th>value-units</th>\n",
       "    </tr>\n",
       "  </thead>\n",
       "  <tbody>\n",
       "    <tr>\n",
       "      <th>0</th>\n",
       "      <td>2015-07-01T08</td>\n",
       "      <td>CISO</td>\n",
       "      <td>California Independent System Operator</td>\n",
       "      <td>D</td>\n",
       "      <td>Demand</td>\n",
       "      <td>31486.0</td>\n",
       "      <td>megawatthours</td>\n",
       "    </tr>\n",
       "    <tr>\n",
       "      <th>1</th>\n",
       "      <td>2015-07-01T09</td>\n",
       "      <td>CISO</td>\n",
       "      <td>California Independent System Operator</td>\n",
       "      <td>D</td>\n",
       "      <td>Demand</td>\n",
       "      <td>28989.0</td>\n",
       "      <td>megawatthours</td>\n",
       "    </tr>\n",
       "    <tr>\n",
       "      <th>2</th>\n",
       "      <td>2015-07-01T10</td>\n",
       "      <td>CISO</td>\n",
       "      <td>California Independent System Operator</td>\n",
       "      <td>D</td>\n",
       "      <td>Demand</td>\n",
       "      <td>27416.0</td>\n",
       "      <td>megawatthours</td>\n",
       "    </tr>\n",
       "    <tr>\n",
       "      <th>3</th>\n",
       "      <td>2015-07-01T11</td>\n",
       "      <td>CISO</td>\n",
       "      <td>California Independent System Operator</td>\n",
       "      <td>D</td>\n",
       "      <td>Demand</td>\n",
       "      <td>26388.0</td>\n",
       "      <td>megawatthours</td>\n",
       "    </tr>\n",
       "    <tr>\n",
       "      <th>4</th>\n",
       "      <td>2015-07-01T12</td>\n",
       "      <td>CISO</td>\n",
       "      <td>California Independent System Operator</td>\n",
       "      <td>D</td>\n",
       "      <td>Demand</td>\n",
       "      <td>25661.0</td>\n",
       "      <td>megawatthours</td>\n",
       "    </tr>\n",
       "  </tbody>\n",
       "</table>\n",
       "</div>"
      ],
      "text/plain": [
       "          period respondent                         respondent-name type  \\\n",
       "0  2015-07-01T08       CISO  California Independent System Operator    D   \n",
       "1  2015-07-01T09       CISO  California Independent System Operator    D   \n",
       "2  2015-07-01T10       CISO  California Independent System Operator    D   \n",
       "3  2015-07-01T11       CISO  California Independent System Operator    D   \n",
       "4  2015-07-01T12       CISO  California Independent System Operator    D   \n",
       "\n",
       "  type-name    value    value-units  \n",
       "0    Demand  31486.0  megawatthours  \n",
       "1    Demand  28989.0  megawatthours  \n",
       "2    Demand  27416.0  megawatthours  \n",
       "3    Demand  26388.0  megawatthours  \n",
       "4    Demand  25661.0  megawatthours  "
      ]
     },
     "execution_count": 14,
     "metadata": {},
     "output_type": "execute_result"
    }
   ],
   "source": [
    "url = \"https://api.eia.gov/v2/electricity/rto/region-data/data/\"\n",
    "demand_data = EIA_API_request(\n",
    "    url=url\n",
    "    ,facets='{\"respondent\": [\"CISO\"],\"type\": [\"D\"]}'\n",
    "    , start=\"2015-07-01T00\",end=\"2023-07-12T00\"\n",
    "    ,sort='[{\"column\":\"period\",\"direction\":\"asc\"}]'\n",
    "    ,offset=0,length=500000\n",
    ")\n",
    "\n",
    "demand_data.head()"
   ]
  },
  {
   "cell_type": "code",
   "execution_count": 16,
   "id": "2ed93f5c-e441-4302-b2a3-72bf3a419dd0",
   "metadata": {},
   "outputs": [
    {
     "name": "stdout",
     "output_type": "stream",
     "text": [
      "<class 'pandas.core.frame.DataFrame'>\n",
      "RangeIndex: 70358 entries, 0 to 70357\n",
      "Data columns (total 7 columns):\n",
      " #   Column           Non-Null Count  Dtype  \n",
      "---  ------           --------------  -----  \n",
      " 0   period           70358 non-null  object \n",
      " 1   respondent       70358 non-null  object \n",
      " 2   respondent-name  70358 non-null  object \n",
      " 3   type             70358 non-null  object \n",
      " 4   type-name        70358 non-null  object \n",
      " 5   value            70085 non-null  float64\n",
      " 6   value-units      70358 non-null  object \n",
      "dtypes: float64(1), object(6)\n",
      "memory usage: 3.8+ MB\n"
     ]
    }
   ],
   "source": [
    " demand_data.info()"
   ]
  },
  {
   "cell_type": "code",
   "execution_count": null,
   "id": "36182c1c-dc8f-44a4-9449-e0efe1e9d16c",
   "metadata": {},
   "outputs": [],
   "source": [
    "entries = json['response']['total']\n",
    "entries"
   ]
  },
  {
   "cell_type": "code",
   "execution_count": null,
   "id": "027b089e-08f2-48ce-8e34-51d9c2cb6d39",
   "metadata": {},
   "outputs": [],
   "source": [
    "# offset = 5000\n",
    "# data = pd.DataFrame()\n",
    "# while left >0:\n",
    "#     json = EIA_API_request(\n",
    "#         facets='{\"respondent\": [\"CISO\"],\"type\": [\"D\",\"NG\"]}'\n",
    "#         , start=\"2018-07-01T00\",end=\"2023-07-09T00\"\n",
    "#         ,sort='[{\"column\":\"period\",\"direction\":\"asc\"}]'\n",
    "#         ,offset=offset,length=5000\n",
    "#     )\n",
    "#     data = pd.concat([data,pd.json_normalize(json['response']['data'])], ignore_index=True)\n",
    "#     offset+=5000\n",
    "#     left = entries - offset\n",
    "#     print(offset)\n",
    "\n",
    "# data.head()"
   ]
  },
  {
   "cell_type": "code",
   "execution_count": null,
   "id": "41ad10cf-ca96-40ed-8bd6-4ce961e1cd2e",
   "metadata": {},
   "outputs": [],
   "source": [
    "list(range(0,-5))"
   ]
  },
  {
   "cell_type": "code",
   "execution_count": null,
   "id": "81cd71b2-9950-4373-840e-2707b81096ff",
   "metadata": {},
   "outputs": [],
   "source": []
  }
 ],
 "metadata": {
  "kernelspec": {
   "display_name": "Python 3 (ipykernel)",
   "language": "python",
   "name": "python3"
  },
  "language_info": {
   "codemirror_mode": {
    "name": "ipython",
    "version": 3
   },
   "file_extension": ".py",
   "mimetype": "text/x-python",
   "name": "python",
   "nbconvert_exporter": "python",
   "pygments_lexer": "ipython3",
   "version": "3.11.4"
  }
 },
 "nbformat": 4,
 "nbformat_minor": 5
}
